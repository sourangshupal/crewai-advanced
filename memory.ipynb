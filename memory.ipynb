{
 "cells": [
  {
   "cell_type": "code",
   "execution_count": null,
   "id": "080ecd0f",
   "metadata": {},
   "outputs": [],
   "source": [
    "import os\n",
    "from pathlib import Path\n",
    "\n",
    "# Store in project directory\n",
    "try:\n",
    "    # This works when running as a script file\n",
    "    project_root = Path(__file__).parent\n",
    "except NameError:\n",
    "    # This works in interactive environments\n",
    "    project_root = Path.cwd()\n",
    "\n",
    "storage_dir = project_root / \"crewal_storage\"\n",
    "\n",
    "os.environ[\"CREWAL_STORAGE_DIR\"] = str(storage_dir)\n",
    "\n",
    "# Now all storage will be in your project directory"
   ]
  },
  {
   "cell_type": "code",
   "execution_count": null,
   "id": "2c76b148",
   "metadata": {},
   "outputs": [],
   "source": [
    "import nest_asyncio\n",
    "\n",
    "nest_asyncio.apply()"
   ]
  },
  {
   "cell_type": "code",
   "execution_count": null,
   "id": "ff2c4875",
   "metadata": {},
   "outputs": [],
   "source": [
    "from crewai import Crew, Agent, Task, Process\n",
    "\n",
    "# Define a simple agent (assuming a default LLM agent)\n",
    "assistant = Agent(role=\"Personal Assistant\",\n",
    "                  goal=\"\"\"You are a personal assistant that can\n",
    "                          help the user with their tasks.\"\"\",\n",
    "                  backstory=\"\"\"You are a personal assistant that\n",
    "                               can help the user with their tasks.\"\"\",\n",
    "                  verbose=True)\n",
    "\n",
    "task = Task(description=\"Handle this task: {user_task}\",\n",
    "            expected_output=\"A clear and concise answer to the question.\",\n",
    "            agent=assistant)\n",
    "\n",
    "# Create a crew with memory enabled\n",
    "crew = Crew(\n",
    "    agents=[assistant], \n",
    "    tasks=[task], \n",
    "    process=Process.sequential,\n",
    "    verbose=True\n",
    ")"
   ]
  },
  {
   "cell_type": "code",
   "execution_count": null,
   "id": "2c6c0251",
   "metadata": {},
   "outputs": [],
   "source": [
    "user_input = \"\"\"My favorite color is #46778F and\n",
    "                my favorite Agent framework is CrewAI.\"\"\"\n",
    "\n",
    "result = crew.kickoff(inputs={\"user_task\": user_input})"
   ]
  },
  {
   "cell_type": "code",
   "execution_count": null,
   "id": "be50b014",
   "metadata": {},
   "outputs": [],
   "source": [
    "user_input = \"What is my favorite color?\"\n",
    "\n",
    "result = crew.kickoff(inputs={\"user_task\": user_input})"
   ]
  },
  {
   "cell_type": "markdown",
   "id": "280489d7",
   "metadata": {},
   "source": [
    "### Short Term Memory"
   ]
  },
  {
   "cell_type": "code",
   "execution_count": null,
   "id": "b8b9c030",
   "metadata": {},
   "outputs": [],
   "source": [
    "from crewai import Crew, Agent, Task, Process\n",
    "\n",
    "# Define a simple agent (assuming a default LLM agent)\n",
    "assistant = Agent(role=\"Personal Assistant\",\n",
    "                  goal=\"\"\"You are a personal assistant that can\n",
    "                          help the user with their tasks.\"\"\",\n",
    "                  backstory=\"\"\"You are a personal assistant that\n",
    "                               can help the user with their tasks.\"\"\",\n",
    "                  verbose=True)\n",
    "\n",
    "task = Task(description=\"Handle this task: {user_task}\",\n",
    "            expected_output=\"A clear and concise answer to the question.\",\n",
    "            agent=assistant)\n",
    "\n",
    "# Create a crew with memory enabled\n",
    "crew = Crew(\n",
    "    agents=[assistant], \n",
    "    tasks=[task], \n",
    "    process=Process.sequential,\n",
    "    memory=True,\n",
    "    verbose=True\n",
    ")"
   ]
  },
  {
   "cell_type": "code",
   "execution_count": null,
   "id": "14690295",
   "metadata": {},
   "outputs": [],
   "source": [
    "user_input = \"\"\"My favorite color is #46778F and\n",
    "                my favorite Agent framework is CrewAI.\"\"\"\n",
    "\n",
    "result = crew.kickoff(inputs={\"user_task\": user_input})"
   ]
  },
  {
   "cell_type": "code",
   "execution_count": null,
   "id": "42ea070d",
   "metadata": {},
   "outputs": [],
   "source": [
    "user_input = \"What is my favorite color?\"\n",
    "\n",
    "result = crew.kickoff(inputs={\"user_task\": user_input})"
   ]
  },
  {
   "cell_type": "code",
   "execution_count": null,
   "id": "d7f933b7",
   "metadata": {},
   "outputs": [],
   "source": [
    "crew._short_term_memory"
   ]
  },
  {
   "cell_type": "code",
   "execution_count": null,
   "id": "bff29ba9",
   "metadata": {},
   "outputs": [],
   "source": [
    "user_input = \"What is my favorite color?\"\n",
    "\n",
    "crew._short_term_memory.storage.search(user_input)"
   ]
  },
  {
   "cell_type": "code",
   "execution_count": null,
   "id": "f78bf2ae",
   "metadata": {},
   "outputs": [],
   "source": [
    "crew._long_term_memory.search(user_input)"
   ]
  },
  {
   "cell_type": "code",
   "execution_count": null,
   "id": "4547217d",
   "metadata": {},
   "outputs": [],
   "source": [
    "user_input = \"What is my favorite color?\"\n",
    "\n",
    "crew._entity_memory.search(user_input)"
   ]
  },
  {
   "cell_type": "markdown",
   "id": "e00f7158",
   "metadata": {},
   "source": [
    "### More on Memory"
   ]
  },
  {
   "cell_type": "code",
   "execution_count": null,
   "id": "baf0c561",
   "metadata": {},
   "outputs": [],
   "source": [
    "from crewai import Crew, Agent, Task, Process\n",
    "from crewai.memory import ShortTermMemory\n",
    "from crewai.memory.storage.rag_storage import RAGStorage\n",
    "\n",
    "shared_db = \"./short_term_memory.db\"\n",
    "\n",
    "storage = RAGStorage(path=shared_db, type=\"short_term\")\n",
    "\n",
    "short_term_memory = ShortTermMemory(storage=storage)"
   ]
  },
  {
   "cell_type": "code",
   "execution_count": null,
   "id": "2fcbd472",
   "metadata": {},
   "outputs": [],
   "source": [
    "agent = Agent(role=\"A Personal Assistant\",\n",
    "              goal=\"\"\"You are a personal assistant that can\n",
    "                      help the user with their tasks.\"\"\",\n",
    "              backstory=\"\"\"You are a personal assistant that\n",
    "                           can help the user with their tasks.\"\"\",\n",
    "              verbose=True)\n",
    "\n",
    "task = Task(description=\"Handle this task: {user_task}\",\n",
    "            expected_output=\"A clear and concise answer to the question.\",\n",
    "            agent=agent)\n",
    "\n",
    "\n",
    "crew = Crew(\n",
    "    agents=[agent], \n",
    "    tasks=[task], \n",
    "    process=Process.sequential,\n",
    "    memory=True,\n",
    "    short_term_memory=short_term_memory\n",
    ")\n",
    "crew.kickoff(inputs={\"user_task\": \"My favorite color is #46778F.\"})"
   ]
  },
  {
   "cell_type": "code",
   "execution_count": null,
   "id": "1d335b6f",
   "metadata": {},
   "outputs": [],
   "source": [
    "user_query = \"What is my favorite color?\"\n",
    "\n",
    "crew.kickoff(inputs={\"user_task\": user_query})"
   ]
  },
  {
   "cell_type": "markdown",
   "id": "b8ace0b4",
   "metadata": {},
   "source": [
    "### Long Term Memory"
   ]
  },
  {
   "cell_type": "code",
   "execution_count": null,
   "id": "60619dfb",
   "metadata": {},
   "outputs": [],
   "source": [
    "from crewai import Crew, Agent, Task, Process\n",
    "from crewai.memory import LongTermMemory\n",
    "from crewai.memory.storage.ltm_sqlite_storage import LTMSQLiteStorage"
   ]
  },
  {
   "cell_type": "code",
   "execution_count": null,
   "id": "2f8fd4c3",
   "metadata": {},
   "outputs": [],
   "source": [
    "shared_db = \"./agent_memory.db\"\n",
    "\n",
    "storage = LTMSQLiteStorage(db_path=shared_db)\n",
    "\n",
    "long_memory = LongTermMemory(storage=storage)"
   ]
  },
  {
   "cell_type": "code",
   "execution_count": null,
   "id": "8e35c105",
   "metadata": {},
   "outputs": [],
   "source": [
    "agent1 = Agent(role=\"First Personal Assistant\",\n",
    "              goal=\"\"\"You are a personal assistant that handles\n",
    "                      user's tasks.\"\"\",\n",
    "              backstory=\"\"\"You are a personal assistant that\n",
    "                           can help the user with their tasks.\"\"\",\n",
    "              verbose=True)\n",
    "\n",
    "task1 = Task(description=\"Handle this task: {user_task}\",\n",
    "            expected_output=\"A clear and concise answer to the question.\",\n",
    "            agent=agent1)\n",
    "\n",
    "crew1 = Crew(\n",
    "    agents=[agent1],\n",
    "    tasks=[task1], \n",
    "    process=Process.sequential,\n",
    "    memory=True,\n",
    "    long_term_memory=long_memory\n",
    ")\n",
    "crew1.kickoff(inputs={\"user_task\": \"My favorite color is #46778F.\"})"
   ]
  },
  {
   "cell_type": "code",
   "execution_count": null,
   "id": "9895fe86",
   "metadata": {},
   "outputs": [],
   "source": [
    "import sqlite3\n",
    "\n",
    "conn = sqlite3.connect(\"agent_memory.db\")\n",
    "cursor = conn.cursor()\n",
    "cursor.execute(\"SELECT name FROM sqlite_master WHERE type='table';\")\n",
    "\n",
    "tables = cursor.fetchall()\n",
    "\n",
    "print(\"Tables in the database:\")\n",
    "for table in tables:\n",
    "    print(table[0])\n",
    "\n",
    "cursor.execute(\"SELECT * FROM long_term_memories;\")\n",
    "rows = cursor.fetchall()\n",
    "\n",
    "for row in rows:\n",
    "    print(row)\n"
   ]
  },
  {
   "cell_type": "code",
   "execution_count": null,
   "id": "7b46d184",
   "metadata": {},
   "outputs": [],
   "source": [
    "task2 = Task(description=\"Handle this task: {user_task}\",\n",
    "            expected_output=\"A clear and concise answer to the question.\",\n",
    "            agent=agent1)\n",
    "\n",
    "crew2 = Crew(\n",
    "    agents=[agent1], \n",
    "    tasks=[task2], \n",
    "    process=Process.sequential,\n",
    "    memory=True,\n",
    "    long_term_memory=long_memory\n",
    ")\n",
    "\n",
    "crew2.kickoff(inputs={\"user_task\": \"What is my favorite color?\"})\n"
   ]
  },
  {
   "cell_type": "markdown",
   "id": "d95c87f9",
   "metadata": {},
   "source": [
    "### Entity Memory"
   ]
  },
  {
   "cell_type": "code",
   "execution_count": 3,
   "id": "44931fbe",
   "metadata": {},
   "outputs": [],
   "source": [
    "from crewai import Crew, Agent, Task, Process\n",
    "from crewai.memory import EntityMemory\n",
    "from crewai.memory.storage.rag_storage import RAGStorage\n",
    "\n",
    "shared_db = \"./agent1_entity_memory.db\"\n",
    "\n",
    "storage = RAGStorage(path=shared_db, type=\"short_term\")\n",
    "\n",
    "entity_memory = EntityMemory(storage=storage)\n"
   ]
  },
  {
   "cell_type": "code",
   "execution_count": 4,
   "id": "59b5e1d7",
   "metadata": {},
   "outputs": [
    {
     "data": {
      "text/html": [
       "<pre style=\"white-space:pre;overflow-x:auto;line-height:normal;font-family:Menlo,'DejaVu Sans Mono',consolas,'Courier New',monospace\"><span style=\"color: #800080; text-decoration-color: #800080\">╭─────────────────────────────────────────────── 🤖 Agent Started ────────────────────────────────────────────────╮</span>\n",
       "<span style=\"color: #800080; text-decoration-color: #800080\">│</span>                                                                                                                 <span style=\"color: #800080; text-decoration-color: #800080\">│</span>\n",
       "<span style=\"color: #800080; text-decoration-color: #800080\">│</span>  <span style=\"color: #c0c0c0; text-decoration-color: #c0c0c0\">Agent: </span><span style=\"color: #00ff00; text-decoration-color: #00ff00; font-weight: bold\">Remembering Agent</span>                                                                                       <span style=\"color: #800080; text-decoration-color: #800080\">│</span>\n",
       "<span style=\"color: #800080; text-decoration-color: #800080\">│</span>                                                                                                                 <span style=\"color: #800080; text-decoration-color: #800080\">│</span>\n",
       "<span style=\"color: #800080; text-decoration-color: #800080\">│</span>  <span style=\"color: #c0c0c0; text-decoration-color: #c0c0c0\">Task: </span><span style=\"color: #00ff00; text-decoration-color: #00ff00\">Handle this task: My favorite color is #46778F.</span>                                                          <span style=\"color: #800080; text-decoration-color: #800080\">│</span>\n",
       "<span style=\"color: #800080; text-decoration-color: #800080\">│</span>                                                                                                                 <span style=\"color: #800080; text-decoration-color: #800080\">│</span>\n",
       "<span style=\"color: #800080; text-decoration-color: #800080\">╰─────────────────────────────────────────────────────────────────────────────────────────────────────────────────╯</span>\n",
       "</pre>\n"
      ],
      "text/plain": [
       "\u001b[35m╭─\u001b[0m\u001b[35m──────────────────────────────────────────────\u001b[0m\u001b[35m 🤖 Agent Started \u001b[0m\u001b[35m───────────────────────────────────────────────\u001b[0m\u001b[35m─╮\u001b[0m\n",
       "\u001b[35m│\u001b[0m                                                                                                                 \u001b[35m│\u001b[0m\n",
       "\u001b[35m│\u001b[0m  \u001b[37mAgent: \u001b[0m\u001b[1;92mRemembering Agent\u001b[0m                                                                                       \u001b[35m│\u001b[0m\n",
       "\u001b[35m│\u001b[0m                                                                                                                 \u001b[35m│\u001b[0m\n",
       "\u001b[35m│\u001b[0m  \u001b[37mTask: \u001b[0m\u001b[92mHandle this task: My favorite color is #46778F.\u001b[0m                                                          \u001b[35m│\u001b[0m\n",
       "\u001b[35m│\u001b[0m                                                                                                                 \u001b[35m│\u001b[0m\n",
       "\u001b[35m╰─────────────────────────────────────────────────────────────────────────────────────────────────────────────────╯\u001b[0m\n"
      ]
     },
     "metadata": {},
     "output_type": "display_data"
    },
    {
     "data": {
      "text/html": [
       "<pre style=\"white-space:pre;overflow-x:auto;line-height:normal;font-family:Menlo,'DejaVu Sans Mono',consolas,'Courier New',monospace\">\n",
       "</pre>\n"
      ],
      "text/plain": [
       "\n"
      ]
     },
     "metadata": {},
     "output_type": "display_data"
    },
    {
     "data": {
      "text/html": [
       "<pre style=\"white-space:pre;overflow-x:auto;line-height:normal;font-family:Menlo,'DejaVu Sans Mono',consolas,'Courier New',monospace\"><span style=\"color: #008000; text-decoration-color: #008000\">╭───────────────────────────────────────────── ✅ Agent Final Answer ─────────────────────────────────────────────╮</span>\n",
       "<span style=\"color: #008000; text-decoration-color: #008000\">│</span>                                                                                                                 <span style=\"color: #008000; text-decoration-color: #008000\">│</span>\n",
       "<span style=\"color: #008000; text-decoration-color: #008000\">│</span>  <span style=\"color: #c0c0c0; text-decoration-color: #c0c0c0\">Agent: </span><span style=\"color: #00ff00; text-decoration-color: #00ff00; font-weight: bold\">Remembering Agent</span>                                                                                       <span style=\"color: #008000; text-decoration-color: #008000\">│</span>\n",
       "<span style=\"color: #008000; text-decoration-color: #008000\">│</span>                                                                                                                 <span style=\"color: #008000; text-decoration-color: #008000\">│</span>\n",
       "<span style=\"color: #008000; text-decoration-color: #008000\">│</span>  <span style=\"color: #c0c0c0; text-decoration-color: #c0c0c0\">Final Answer:</span>                                                                                                  <span style=\"color: #008000; text-decoration-color: #008000\">│</span>\n",
       "<span style=\"color: #008000; text-decoration-color: #008000\">│</span>  <span style=\"color: #00ff00; text-decoration-color: #00ff00\">Your favorite color is #46778F.</span>                                                                                <span style=\"color: #008000; text-decoration-color: #008000\">│</span>\n",
       "<span style=\"color: #008000; text-decoration-color: #008000\">│</span>                                                                                                                 <span style=\"color: #008000; text-decoration-color: #008000\">│</span>\n",
       "<span style=\"color: #008000; text-decoration-color: #008000\">╰─────────────────────────────────────────────────────────────────────────────────────────────────────────────────╯</span>\n",
       "</pre>\n"
      ],
      "text/plain": [
       "\u001b[32m╭─\u001b[0m\u001b[32m────────────────────────────────────────────\u001b[0m\u001b[32m ✅ Agent Final Answer \u001b[0m\u001b[32m────────────────────────────────────────────\u001b[0m\u001b[32m─╮\u001b[0m\n",
       "\u001b[32m│\u001b[0m                                                                                                                 \u001b[32m│\u001b[0m\n",
       "\u001b[32m│\u001b[0m  \u001b[37mAgent: \u001b[0m\u001b[1;92mRemembering Agent\u001b[0m                                                                                       \u001b[32m│\u001b[0m\n",
       "\u001b[32m│\u001b[0m                                                                                                                 \u001b[32m│\u001b[0m\n",
       "\u001b[32m│\u001b[0m  \u001b[37mFinal Answer:\u001b[0m                                                                                                  \u001b[32m│\u001b[0m\n",
       "\u001b[32m│\u001b[0m  \u001b[92mYour favorite color is #46778F.\u001b[0m                                                                                \u001b[32m│\u001b[0m\n",
       "\u001b[32m│\u001b[0m                                                                                                                 \u001b[32m│\u001b[0m\n",
       "\u001b[32m╰─────────────────────────────────────────────────────────────────────────────────────────────────────────────────╯\u001b[0m\n"
      ]
     },
     "metadata": {},
     "output_type": "display_data"
    },
    {
     "data": {
      "text/html": [
       "<pre style=\"white-space:pre;overflow-x:auto;line-height:normal;font-family:Menlo,'DejaVu Sans Mono',consolas,'Courier New',monospace\">\n",
       "</pre>\n"
      ],
      "text/plain": [
       "\n"
      ]
     },
     "metadata": {},
     "output_type": "display_data"
    },
    {
     "data": {
      "text/plain": [
       "CrewOutput(raw='Your favorite color is #46778F.', pydantic=None, json_dict=None, tasks_output=[TaskOutput(description='Handle this task: My favorite color is #46778F.', name=None, expected_output='A clear and concise answer to the question.', summary='Handle this task: My favorite color is #46778F....', raw='Your favorite color is #46778F.', pydantic=None, json_dict=None, agent='Remembering Agent', output_format=<OutputFormat.RAW: 'raw'>)], token_usage=UsageMetrics(total_tokens=257, prompt_tokens=237, cached_prompt_tokens=0, completion_tokens=20, successful_requests=1))"
      ]
     },
     "execution_count": 4,
     "metadata": {},
     "output_type": "execute_result"
    }
   ],
   "source": [
    "remembering_agent = Agent(role=\"Remembering Agent\",\n",
    "                          goal=\"\"\"You are a assistant that can\n",
    "                                  remember the user's information.\"\"\",\n",
    "                          backstory=\"\"\"You are a assistant that can remember\n",
    "                                       the user's information.\"\"\",\n",
    "                          verbose=True)\n",
    "            \n",
    "task = Task(description=\"Handle this task: {user_task}\",\n",
    "            expected_output=\"A clear and concise answer to the question.\",\n",
    "            agent=remembering_agent)\n",
    "\n",
    "crew = Crew(\n",
    "    agents=[remembering_agent], \n",
    "    tasks=[task], \n",
    "    process=Process.sequential,\n",
    "    memory=True,\n",
    "    entity_memory=entity_memory\n",
    ")\n",
    "\n",
    "crew.kickoff(inputs={\"user_task\": \"My favorite color is #46778F.\"})"
   ]
  },
  {
   "cell_type": "code",
   "execution_count": 5,
   "id": "4aa235fd",
   "metadata": {},
   "outputs": [
    {
     "data": {
      "text/plain": [
       "[{'id': 'c1dd4ab7-6f00-4558-8e0e-46c64a3d5dcb',\n",
       "  'metadata': {'relationships': '- is a preference of the individual'},\n",
       "  'context': 'favorite color(Color): The color that the individual prefers, which in this case is represented by a hex code.',\n",
       "  'score': 0.889506238520751},\n",
       " {'id': '86b96756-858f-44b9-84f3-40e19eeb8fd0',\n",
       "  'metadata': {'relationships': '- is a representation of the favorite color'},\n",
       "  'context': '#46778F(Hex Color Code): The hexadecimal representation of the color preferred by the individual.',\n",
       "  'score': 1.0241029559690003}]"
      ]
     },
     "execution_count": 5,
     "metadata": {},
     "output_type": "execute_result"
    }
   ],
   "source": [
    "crew._entity_memory.search(\"What is my favorite color?\")"
   ]
  },
  {
   "cell_type": "markdown",
   "id": "5759eb66",
   "metadata": {},
   "source": [
    "### Resetting memory"
   ]
  },
  {
   "cell_type": "code",
   "execution_count": 6,
   "id": "5d19d55d",
   "metadata": {},
   "outputs": [
    {
     "ename": "RuntimeError",
     "evalue": "Failed to reset all memory: [Crew (crew)] Failed to reset Entity memory: An error occurred while resetting the entity memory: An error occurred while resetting the short_term memory: [Errno 2] No such file or directory: '/Users/sourangshupal/Library/Application Support/crewai-advanced/short_term'",
     "output_type": "error",
     "traceback": [
      "\u001b[31m---------------------------------------------------------------------------\u001b[39m",
      "\u001b[31mFileNotFoundError\u001b[39m                         Traceback (most recent call last)",
      "\u001b[36mFile \u001b[39m\u001b[32m~/Downloads/crewai-advanced/.venv/lib/python3.13/site-packages/crewai/memory/storage/rag_storage.py:149\u001b[39m, in \u001b[36mRAGStorage.reset\u001b[39m\u001b[34m(self)\u001b[39m\n\u001b[32m    148\u001b[39m \u001b[38;5;28mself\u001b[39m.app.reset()\n\u001b[32m--> \u001b[39m\u001b[32m149\u001b[39m \u001b[43mshutil\u001b[49m\u001b[43m.\u001b[49m\u001b[43mrmtree\u001b[49m\u001b[43m(\u001b[49m\u001b[33;43mf\u001b[39;49m\u001b[33;43m\"\u001b[39;49m\u001b[38;5;132;43;01m{\u001b[39;49;00m\u001b[43mdb_storage_path\u001b[49m\u001b[43m(\u001b[49m\u001b[43m)\u001b[49m\u001b[38;5;132;43;01m}\u001b[39;49;00m\u001b[33;43m/\u001b[39;49m\u001b[38;5;132;43;01m{\u001b[39;49;00m\u001b[38;5;28;43mself\u001b[39;49m\u001b[43m.\u001b[49m\u001b[43mtype\u001b[49m\u001b[38;5;132;43;01m}\u001b[39;49;00m\u001b[33;43m\"\u001b[39;49m\u001b[43m)\u001b[49m\n\u001b[32m    150\u001b[39m \u001b[38;5;28mself\u001b[39m.app = \u001b[38;5;28;01mNone\u001b[39;00m\n",
      "\u001b[36mFile \u001b[39m\u001b[32m~/.local/share/uv/python/cpython-3.13.2-macos-aarch64-none/lib/python3.13/shutil.py:763\u001b[39m, in \u001b[36mrmtree\u001b[39m\u001b[34m(path, ignore_errors, onerror, onexc, dir_fd)\u001b[39m\n\u001b[32m    762\u001b[39m     \u001b[38;5;28;01mwhile\u001b[39;00m stack:\n\u001b[32m--> \u001b[39m\u001b[32m763\u001b[39m         \u001b[43m_rmtree_safe_fd\u001b[49m\u001b[43m(\u001b[49m\u001b[43mstack\u001b[49m\u001b[43m,\u001b[49m\u001b[43m \u001b[49m\u001b[43monexc\u001b[49m\u001b[43m)\u001b[49m\n\u001b[32m    764\u001b[39m \u001b[38;5;28;01mfinally\u001b[39;00m:\n\u001b[32m    765\u001b[39m     \u001b[38;5;66;03m# Close any file descriptors still on the stack.\u001b[39;00m\n",
      "\u001b[36mFile \u001b[39m\u001b[32m~/.local/share/uv/python/cpython-3.13.2-macos-aarch64-none/lib/python3.13/shutil.py:704\u001b[39m, in \u001b[36m_rmtree_safe_fd\u001b[39m\u001b[34m(stack, onexc)\u001b[39m\n\u001b[32m    703\u001b[39m         err.filename = path\n\u001b[32m--> \u001b[39m\u001b[32m704\u001b[39m         \u001b[43monexc\u001b[49m\u001b[43m(\u001b[49m\u001b[43mfunc\u001b[49m\u001b[43m,\u001b[49m\u001b[43m \u001b[49m\u001b[43mpath\u001b[49m\u001b[43m,\u001b[49m\u001b[43m \u001b[49m\u001b[43merr\u001b[49m\u001b[43m)\u001b[49m\n\u001b[32m    705\u001b[39m \u001b[38;5;28;01mexcept\u001b[39;00m \u001b[38;5;167;01mOSError\u001b[39;00m \u001b[38;5;28;01mas\u001b[39;00m err:\n",
      "\u001b[36mFile \u001b[39m\u001b[32m~/.local/share/uv/python/cpython-3.13.2-macos-aarch64-none/lib/python3.13/shutil.py:665\u001b[39m, in \u001b[36m_rmtree_safe_fd\u001b[39m\u001b[34m(stack, onexc)\u001b[39m\n\u001b[32m    664\u001b[39m \u001b[38;5;28;01mif\u001b[39;00m orig_entry \u001b[38;5;129;01mis\u001b[39;00m \u001b[38;5;28;01mNone\u001b[39;00m:\n\u001b[32m--> \u001b[39m\u001b[32m665\u001b[39m     orig_st = \u001b[43mos\u001b[49m\u001b[43m.\u001b[49m\u001b[43mlstat\u001b[49m\u001b[43m(\u001b[49m\u001b[43mname\u001b[49m\u001b[43m,\u001b[49m\u001b[43m \u001b[49m\u001b[43mdir_fd\u001b[49m\u001b[43m=\u001b[49m\u001b[43mdirfd\u001b[49m\u001b[43m)\u001b[49m\n\u001b[32m    666\u001b[39m \u001b[38;5;28;01melse\u001b[39;00m:\n",
      "\u001b[31mFileNotFoundError\u001b[39m: [Errno 2] No such file or directory: '/Users/sourangshupal/Library/Application Support/crewai-advanced/short_term'",
      "\nDuring handling of the above exception, another exception occurred:\n",
      "\u001b[31mException\u001b[39m                                 Traceback (most recent call last)",
      "\u001b[36mFile \u001b[39m\u001b[32m~/Downloads/crewai-advanced/.venv/lib/python3.13/site-packages/crewai/memory/entity/entity_memory.py:151\u001b[39m, in \u001b[36mEntityMemory.reset\u001b[39m\u001b[34m(self)\u001b[39m\n\u001b[32m    150\u001b[39m \u001b[38;5;28;01mtry\u001b[39;00m:\n\u001b[32m--> \u001b[39m\u001b[32m151\u001b[39m     \u001b[38;5;28;43mself\u001b[39;49m\u001b[43m.\u001b[49m\u001b[43mstorage\u001b[49m\u001b[43m.\u001b[49m\u001b[43mreset\u001b[49m\u001b[43m(\u001b[49m\u001b[43m)\u001b[49m\n\u001b[32m    152\u001b[39m \u001b[38;5;28;01mexcept\u001b[39;00m \u001b[38;5;167;01mException\u001b[39;00m \u001b[38;5;28;01mas\u001b[39;00m e:\n",
      "\u001b[36mFile \u001b[39m\u001b[32m~/Downloads/crewai-advanced/.venv/lib/python3.13/site-packages/crewai/memory/storage/rag_storage.py:157\u001b[39m, in \u001b[36mRAGStorage.reset\u001b[39m\u001b[34m(self)\u001b[39m\n\u001b[32m    156\u001b[39m \u001b[38;5;28;01melse\u001b[39;00m:\n\u001b[32m--> \u001b[39m\u001b[32m157\u001b[39m     \u001b[38;5;28;01mraise\u001b[39;00m \u001b[38;5;167;01mException\u001b[39;00m(\n\u001b[32m    158\u001b[39m         \u001b[33mf\u001b[39m\u001b[33m\"\u001b[39m\u001b[33mAn error occurred while resetting the \u001b[39m\u001b[38;5;132;01m{\u001b[39;00m\u001b[38;5;28mself\u001b[39m.type\u001b[38;5;132;01m}\u001b[39;00m\u001b[33m memory: \u001b[39m\u001b[38;5;132;01m{\u001b[39;00me\u001b[38;5;132;01m}\u001b[39;00m\u001b[33m\"\u001b[39m\n\u001b[32m    159\u001b[39m     )\n",
      "\u001b[31mException\u001b[39m: An error occurred while resetting the short_term memory: [Errno 2] No such file or directory: '/Users/sourangshupal/Library/Application Support/crewai-advanced/short_term'",
      "\nDuring handling of the above exception, another exception occurred:\n",
      "\u001b[31mException\u001b[39m                                 Traceback (most recent call last)",
      "\u001b[36mFile \u001b[39m\u001b[32m~/Downloads/crewai-advanced/.venv/lib/python3.13/site-packages/crewai/crew.py:1393\u001b[39m, in \u001b[36mCrew._reset_all_memories\u001b[39m\u001b[34m(self)\u001b[39m\n\u001b[32m   1392\u001b[39m reset_fn: Callable = cast(Callable, config.get(\u001b[33m\"\u001b[39m\u001b[33mreset\u001b[39m\u001b[33m\"\u001b[39m))\n\u001b[32m-> \u001b[39m\u001b[32m1393\u001b[39m \u001b[43mreset_fn\u001b[49m\u001b[43m(\u001b[49m\u001b[43msystem\u001b[49m\u001b[43m)\u001b[49m\n\u001b[32m   1394\u001b[39m \u001b[38;5;28mself\u001b[39m._logger.log(\n\u001b[32m   1395\u001b[39m     \u001b[33m\"\u001b[39m\u001b[33minfo\u001b[39m\u001b[33m\"\u001b[39m,\n\u001b[32m   1396\u001b[39m     \u001b[33mf\u001b[39m\u001b[33m\"\u001b[39m\u001b[33m[Crew (\u001b[39m\u001b[38;5;132;01m{\u001b[39;00m\u001b[38;5;28mself\u001b[39m.name\u001b[38;5;250m \u001b[39m\u001b[38;5;28;01mif\u001b[39;00m\u001b[38;5;250m \u001b[39m\u001b[38;5;28mself\u001b[39m.name\u001b[38;5;250m \u001b[39m\u001b[38;5;28;01melse\u001b[39;00m\u001b[38;5;250m \u001b[39m\u001b[38;5;28mself\u001b[39m.id\u001b[38;5;132;01m}\u001b[39;00m\u001b[33m)] \u001b[39m\u001b[38;5;132;01m{\u001b[39;00mname\u001b[38;5;132;01m}\u001b[39;00m\u001b[33m memory has been reset\u001b[39m\u001b[33m\"\u001b[39m,\n\u001b[32m   1397\u001b[39m )\n",
      "\u001b[36mFile \u001b[39m\u001b[32m~/Downloads/crewai-advanced/.venv/lib/python3.13/site-packages/crewai/crew.py:1440\u001b[39m, in \u001b[36mCrew._get_memory_systems.<locals>.default_reset\u001b[39m\u001b[34m(memory)\u001b[39m\n\u001b[32m   1439\u001b[39m \u001b[38;5;28;01mdef\u001b[39;00m\u001b[38;5;250m \u001b[39m\u001b[34mdefault_reset\u001b[39m(memory):\n\u001b[32m-> \u001b[39m\u001b[32m1440\u001b[39m     \u001b[38;5;28;01mreturn\u001b[39;00m \u001b[43mmemory\u001b[49m\u001b[43m.\u001b[49m\u001b[43mreset\u001b[49m\u001b[43m(\u001b[49m\u001b[43m)\u001b[49m\n",
      "\u001b[36mFile \u001b[39m\u001b[32m~/Downloads/crewai-advanced/.venv/lib/python3.13/site-packages/crewai/memory/entity/entity_memory.py:153\u001b[39m, in \u001b[36mEntityMemory.reset\u001b[39m\u001b[34m(self)\u001b[39m\n\u001b[32m    152\u001b[39m \u001b[38;5;28;01mexcept\u001b[39;00m \u001b[38;5;167;01mException\u001b[39;00m \u001b[38;5;28;01mas\u001b[39;00m e:\n\u001b[32m--> \u001b[39m\u001b[32m153\u001b[39m     \u001b[38;5;28;01mraise\u001b[39;00m \u001b[38;5;167;01mException\u001b[39;00m(\u001b[33mf\u001b[39m\u001b[33m\"\u001b[39m\u001b[33mAn error occurred while resetting the entity memory: \u001b[39m\u001b[38;5;132;01m{\u001b[39;00me\u001b[38;5;132;01m}\u001b[39;00m\u001b[33m\"\u001b[39m)\n",
      "\u001b[31mException\u001b[39m: An error occurred while resetting the entity memory: An error occurred while resetting the short_term memory: [Errno 2] No such file or directory: '/Users/sourangshupal/Library/Application Support/crewai-advanced/short_term'",
      "\nThe above exception was the direct cause of the following exception:\n",
      "\u001b[31mRuntimeError\u001b[39m                              Traceback (most recent call last)",
      "\u001b[36mFile \u001b[39m\u001b[32m~/Downloads/crewai-advanced/.venv/lib/python3.13/site-packages/crewai/crew.py:1375\u001b[39m, in \u001b[36mCrew.reset_memories\u001b[39m\u001b[34m(self, command_type)\u001b[39m\n\u001b[32m   1374\u001b[39m \u001b[38;5;28;01mif\u001b[39;00m command_type == \u001b[33m\"\u001b[39m\u001b[33mall\u001b[39m\u001b[33m\"\u001b[39m:\n\u001b[32m-> \u001b[39m\u001b[32m1375\u001b[39m     \u001b[38;5;28;43mself\u001b[39;49m\u001b[43m.\u001b[49m\u001b[43m_reset_all_memories\u001b[49m\u001b[43m(\u001b[49m\u001b[43m)\u001b[49m\n\u001b[32m   1376\u001b[39m \u001b[38;5;28;01melse\u001b[39;00m:\n",
      "\u001b[36mFile \u001b[39m\u001b[32m~/Downloads/crewai-advanced/.venv/lib/python3.13/site-packages/crewai/crew.py:1399\u001b[39m, in \u001b[36mCrew._reset_all_memories\u001b[39m\u001b[34m(self)\u001b[39m\n\u001b[32m   1398\u001b[39m \u001b[38;5;28;01mexcept\u001b[39;00m \u001b[38;5;167;01mException\u001b[39;00m \u001b[38;5;28;01mas\u001b[39;00m e:\n\u001b[32m-> \u001b[39m\u001b[32m1399\u001b[39m     \u001b[38;5;28;01mraise\u001b[39;00m \u001b[38;5;167;01mRuntimeError\u001b[39;00m(\n\u001b[32m   1400\u001b[39m         \u001b[33mf\u001b[39m\u001b[33m\"\u001b[39m\u001b[33m[Crew (\u001b[39m\u001b[38;5;132;01m{\u001b[39;00m\u001b[38;5;28mself\u001b[39m.name\u001b[38;5;250m \u001b[39m\u001b[38;5;28;01mif\u001b[39;00m\u001b[38;5;250m \u001b[39m\u001b[38;5;28mself\u001b[39m.name\u001b[38;5;250m \u001b[39m\u001b[38;5;28;01melse\u001b[39;00m\u001b[38;5;250m \u001b[39m\u001b[38;5;28mself\u001b[39m.id\u001b[38;5;132;01m}\u001b[39;00m\u001b[33m)] Failed to reset \u001b[39m\u001b[38;5;132;01m{\u001b[39;00mname\u001b[38;5;132;01m}\u001b[39;00m\u001b[33m memory: \u001b[39m\u001b[38;5;132;01m{\u001b[39;00m\u001b[38;5;28mstr\u001b[39m(e)\u001b[38;5;132;01m}\u001b[39;00m\u001b[33m\"\u001b[39m\n\u001b[32m   1401\u001b[39m     ) \u001b[38;5;28;01mfrom\u001b[39;00m\u001b[38;5;250m \u001b[39m\u001b[34;01me\u001b[39;00m\n",
      "\u001b[31mRuntimeError\u001b[39m: [Crew (crew)] Failed to reset Entity memory: An error occurred while resetting the entity memory: An error occurred while resetting the short_term memory: [Errno 2] No such file or directory: '/Users/sourangshupal/Library/Application Support/crewai-advanced/short_term'",
      "\nThe above exception was the direct cause of the following exception:\n",
      "\u001b[31mRuntimeError\u001b[39m                              Traceback (most recent call last)",
      "\u001b[36mCell\u001b[39m\u001b[36m \u001b[39m\u001b[32mIn[6]\u001b[39m\u001b[32m, line 1\u001b[39m\n\u001b[32m----> \u001b[39m\u001b[32m1\u001b[39m \u001b[43mcrew\u001b[49m\u001b[43m.\u001b[49m\u001b[43mreset_memories\u001b[49m\u001b[43m(\u001b[49m\u001b[43mcommand_type\u001b[49m\u001b[43m \u001b[49m\u001b[43m=\u001b[49m\u001b[43m \u001b[49m\u001b[33;43m'\u001b[39;49m\u001b[33;43mall\u001b[39;49m\u001b[33;43m'\u001b[39;49m\u001b[43m)\u001b[49m\n",
      "\u001b[36mFile \u001b[39m\u001b[32m~/Downloads/crewai-advanced/.venv/lib/python3.13/site-packages/crewai/crew.py:1382\u001b[39m, in \u001b[36mCrew.reset_memories\u001b[39m\u001b[34m(self, command_type)\u001b[39m\n\u001b[32m   1380\u001b[39m error_msg = \u001b[33mf\u001b[39m\u001b[33m\"\u001b[39m\u001b[33mFailed to reset \u001b[39m\u001b[38;5;132;01m{\u001b[39;00mcommand_type\u001b[38;5;132;01m}\u001b[39;00m\u001b[33m memory: \u001b[39m\u001b[38;5;132;01m{\u001b[39;00m\u001b[38;5;28mstr\u001b[39m(e)\u001b[38;5;132;01m}\u001b[39;00m\u001b[33m\"\u001b[39m\n\u001b[32m   1381\u001b[39m \u001b[38;5;28mself\u001b[39m._logger.log(\u001b[33m\"\u001b[39m\u001b[33merror\u001b[39m\u001b[33m\"\u001b[39m, error_msg)\n\u001b[32m-> \u001b[39m\u001b[32m1382\u001b[39m \u001b[38;5;28;01mraise\u001b[39;00m \u001b[38;5;167;01mRuntimeError\u001b[39;00m(error_msg) \u001b[38;5;28;01mfrom\u001b[39;00m\u001b[38;5;250m \u001b[39m\u001b[34;01me\u001b[39;00m\n",
      "\u001b[31mRuntimeError\u001b[39m: Failed to reset all memory: [Crew (crew)] Failed to reset Entity memory: An error occurred while resetting the entity memory: An error occurred while resetting the short_term memory: [Errno 2] No such file or directory: '/Users/sourangshupal/Library/Application Support/crewai-advanced/short_term'"
     ]
    }
   ],
   "source": [
    "crew.reset_memories(command_type = 'all')"
   ]
  },
  {
   "cell_type": "code",
   "execution_count": 7,
   "id": "2920c376",
   "metadata": {},
   "outputs": [],
   "source": [
    "crew.reset_memories(command_type='short')"
   ]
  },
  {
   "cell_type": "code",
   "execution_count": 8,
   "id": "b53a26fb",
   "metadata": {},
   "outputs": [],
   "source": [
    "crew.reset_memories(command_type='long')"
   ]
  },
  {
   "cell_type": "code",
   "execution_count": 9,
   "id": "47f844d4",
   "metadata": {},
   "outputs": [
    {
     "ename": "RuntimeError",
     "evalue": "Failed to reset entity memory: [Crew (crew)] Failed to reset Entity memory: An error occurred while resetting the entity memory: An error occurred while resetting the short_term memory: [Errno 2] No such file or directory: '/Users/sourangshupal/Library/Application Support/crewai-advanced/short_term'",
     "output_type": "error",
     "traceback": [
      "\u001b[31m---------------------------------------------------------------------------\u001b[39m",
      "\u001b[31mFileNotFoundError\u001b[39m                         Traceback (most recent call last)",
      "\u001b[36mFile \u001b[39m\u001b[32m~/Downloads/crewai-advanced/.venv/lib/python3.13/site-packages/crewai/memory/storage/rag_storage.py:149\u001b[39m, in \u001b[36mRAGStorage.reset\u001b[39m\u001b[34m(self)\u001b[39m\n\u001b[32m    148\u001b[39m \u001b[38;5;28mself\u001b[39m.app.reset()\n\u001b[32m--> \u001b[39m\u001b[32m149\u001b[39m \u001b[43mshutil\u001b[49m\u001b[43m.\u001b[49m\u001b[43mrmtree\u001b[49m\u001b[43m(\u001b[49m\u001b[33;43mf\u001b[39;49m\u001b[33;43m\"\u001b[39;49m\u001b[38;5;132;43;01m{\u001b[39;49;00m\u001b[43mdb_storage_path\u001b[49m\u001b[43m(\u001b[49m\u001b[43m)\u001b[49m\u001b[38;5;132;43;01m}\u001b[39;49;00m\u001b[33;43m/\u001b[39;49m\u001b[38;5;132;43;01m{\u001b[39;49;00m\u001b[38;5;28;43mself\u001b[39;49m\u001b[43m.\u001b[49m\u001b[43mtype\u001b[49m\u001b[38;5;132;43;01m}\u001b[39;49;00m\u001b[33;43m\"\u001b[39;49m\u001b[43m)\u001b[49m\n\u001b[32m    150\u001b[39m \u001b[38;5;28mself\u001b[39m.app = \u001b[38;5;28;01mNone\u001b[39;00m\n",
      "\u001b[36mFile \u001b[39m\u001b[32m~/.local/share/uv/python/cpython-3.13.2-macos-aarch64-none/lib/python3.13/shutil.py:763\u001b[39m, in \u001b[36mrmtree\u001b[39m\u001b[34m(path, ignore_errors, onerror, onexc, dir_fd)\u001b[39m\n\u001b[32m    762\u001b[39m     \u001b[38;5;28;01mwhile\u001b[39;00m stack:\n\u001b[32m--> \u001b[39m\u001b[32m763\u001b[39m         \u001b[43m_rmtree_safe_fd\u001b[49m\u001b[43m(\u001b[49m\u001b[43mstack\u001b[49m\u001b[43m,\u001b[49m\u001b[43m \u001b[49m\u001b[43monexc\u001b[49m\u001b[43m)\u001b[49m\n\u001b[32m    764\u001b[39m \u001b[38;5;28;01mfinally\u001b[39;00m:\n\u001b[32m    765\u001b[39m     \u001b[38;5;66;03m# Close any file descriptors still on the stack.\u001b[39;00m\n",
      "\u001b[36mFile \u001b[39m\u001b[32m~/.local/share/uv/python/cpython-3.13.2-macos-aarch64-none/lib/python3.13/shutil.py:704\u001b[39m, in \u001b[36m_rmtree_safe_fd\u001b[39m\u001b[34m(stack, onexc)\u001b[39m\n\u001b[32m    703\u001b[39m         err.filename = path\n\u001b[32m--> \u001b[39m\u001b[32m704\u001b[39m         \u001b[43monexc\u001b[49m\u001b[43m(\u001b[49m\u001b[43mfunc\u001b[49m\u001b[43m,\u001b[49m\u001b[43m \u001b[49m\u001b[43mpath\u001b[49m\u001b[43m,\u001b[49m\u001b[43m \u001b[49m\u001b[43merr\u001b[49m\u001b[43m)\u001b[49m\n\u001b[32m    705\u001b[39m \u001b[38;5;28;01mexcept\u001b[39;00m \u001b[38;5;167;01mOSError\u001b[39;00m \u001b[38;5;28;01mas\u001b[39;00m err:\n",
      "\u001b[36mFile \u001b[39m\u001b[32m~/.local/share/uv/python/cpython-3.13.2-macos-aarch64-none/lib/python3.13/shutil.py:665\u001b[39m, in \u001b[36m_rmtree_safe_fd\u001b[39m\u001b[34m(stack, onexc)\u001b[39m\n\u001b[32m    664\u001b[39m \u001b[38;5;28;01mif\u001b[39;00m orig_entry \u001b[38;5;129;01mis\u001b[39;00m \u001b[38;5;28;01mNone\u001b[39;00m:\n\u001b[32m--> \u001b[39m\u001b[32m665\u001b[39m     orig_st = \u001b[43mos\u001b[49m\u001b[43m.\u001b[49m\u001b[43mlstat\u001b[49m\u001b[43m(\u001b[49m\u001b[43mname\u001b[49m\u001b[43m,\u001b[49m\u001b[43m \u001b[49m\u001b[43mdir_fd\u001b[49m\u001b[43m=\u001b[49m\u001b[43mdirfd\u001b[49m\u001b[43m)\u001b[49m\n\u001b[32m    666\u001b[39m \u001b[38;5;28;01melse\u001b[39;00m:\n",
      "\u001b[31mFileNotFoundError\u001b[39m: [Errno 2] No such file or directory: '/Users/sourangshupal/Library/Application Support/crewai-advanced/short_term'",
      "\nDuring handling of the above exception, another exception occurred:\n",
      "\u001b[31mException\u001b[39m                                 Traceback (most recent call last)",
      "\u001b[36mFile \u001b[39m\u001b[32m~/Downloads/crewai-advanced/.venv/lib/python3.13/site-packages/crewai/memory/entity/entity_memory.py:151\u001b[39m, in \u001b[36mEntityMemory.reset\u001b[39m\u001b[34m(self)\u001b[39m\n\u001b[32m    150\u001b[39m \u001b[38;5;28;01mtry\u001b[39;00m:\n\u001b[32m--> \u001b[39m\u001b[32m151\u001b[39m     \u001b[38;5;28;43mself\u001b[39;49m\u001b[43m.\u001b[49m\u001b[43mstorage\u001b[49m\u001b[43m.\u001b[49m\u001b[43mreset\u001b[49m\u001b[43m(\u001b[49m\u001b[43m)\u001b[49m\n\u001b[32m    152\u001b[39m \u001b[38;5;28;01mexcept\u001b[39;00m \u001b[38;5;167;01mException\u001b[39;00m \u001b[38;5;28;01mas\u001b[39;00m e:\n",
      "\u001b[36mFile \u001b[39m\u001b[32m~/Downloads/crewai-advanced/.venv/lib/python3.13/site-packages/crewai/memory/storage/rag_storage.py:157\u001b[39m, in \u001b[36mRAGStorage.reset\u001b[39m\u001b[34m(self)\u001b[39m\n\u001b[32m    156\u001b[39m \u001b[38;5;28;01melse\u001b[39;00m:\n\u001b[32m--> \u001b[39m\u001b[32m157\u001b[39m     \u001b[38;5;28;01mraise\u001b[39;00m \u001b[38;5;167;01mException\u001b[39;00m(\n\u001b[32m    158\u001b[39m         \u001b[33mf\u001b[39m\u001b[33m\"\u001b[39m\u001b[33mAn error occurred while resetting the \u001b[39m\u001b[38;5;132;01m{\u001b[39;00m\u001b[38;5;28mself\u001b[39m.type\u001b[38;5;132;01m}\u001b[39;00m\u001b[33m memory: \u001b[39m\u001b[38;5;132;01m{\u001b[39;00me\u001b[38;5;132;01m}\u001b[39;00m\u001b[33m\"\u001b[39m\n\u001b[32m    159\u001b[39m     )\n",
      "\u001b[31mException\u001b[39m: An error occurred while resetting the short_term memory: [Errno 2] No such file or directory: '/Users/sourangshupal/Library/Application Support/crewai-advanced/short_term'",
      "\nDuring handling of the above exception, another exception occurred:\n",
      "\u001b[31mException\u001b[39m                                 Traceback (most recent call last)",
      "\u001b[36mFile \u001b[39m\u001b[32m~/Downloads/crewai-advanced/.venv/lib/python3.13/site-packages/crewai/crew.py:1422\u001b[39m, in \u001b[36mCrew._reset_specific_memory\u001b[39m\u001b[34m(self, memory_type)\u001b[39m\n\u001b[32m   1421\u001b[39m reset_fn: Callable = cast(Callable, config.get(\u001b[33m\"\u001b[39m\u001b[33mreset\u001b[39m\u001b[33m\"\u001b[39m))\n\u001b[32m-> \u001b[39m\u001b[32m1422\u001b[39m \u001b[43mreset_fn\u001b[49m\u001b[43m(\u001b[49m\u001b[43msystem\u001b[49m\u001b[43m)\u001b[49m\n\u001b[32m   1423\u001b[39m \u001b[38;5;28mself\u001b[39m._logger.log(\n\u001b[32m   1424\u001b[39m     \u001b[33m\"\u001b[39m\u001b[33minfo\u001b[39m\u001b[33m\"\u001b[39m,\n\u001b[32m   1425\u001b[39m     \u001b[33mf\u001b[39m\u001b[33m\"\u001b[39m\u001b[33m[Crew (\u001b[39m\u001b[38;5;132;01m{\u001b[39;00m\u001b[38;5;28mself\u001b[39m.name\u001b[38;5;250m \u001b[39m\u001b[38;5;28;01mif\u001b[39;00m\u001b[38;5;250m \u001b[39m\u001b[38;5;28mself\u001b[39m.name\u001b[38;5;250m \u001b[39m\u001b[38;5;28;01melse\u001b[39;00m\u001b[38;5;250m \u001b[39m\u001b[38;5;28mself\u001b[39m.id\u001b[38;5;132;01m}\u001b[39;00m\u001b[33m)] \u001b[39m\u001b[38;5;132;01m{\u001b[39;00mname\u001b[38;5;132;01m}\u001b[39;00m\u001b[33m memory has been reset\u001b[39m\u001b[33m\"\u001b[39m,\n\u001b[32m   1426\u001b[39m )\n",
      "\u001b[36mFile \u001b[39m\u001b[32m~/Downloads/crewai-advanced/.venv/lib/python3.13/site-packages/crewai/crew.py:1440\u001b[39m, in \u001b[36mCrew._get_memory_systems.<locals>.default_reset\u001b[39m\u001b[34m(memory)\u001b[39m\n\u001b[32m   1439\u001b[39m \u001b[38;5;28;01mdef\u001b[39;00m\u001b[38;5;250m \u001b[39m\u001b[34mdefault_reset\u001b[39m(memory):\n\u001b[32m-> \u001b[39m\u001b[32m1440\u001b[39m     \u001b[38;5;28;01mreturn\u001b[39;00m \u001b[43mmemory\u001b[49m\u001b[43m.\u001b[49m\u001b[43mreset\u001b[49m\u001b[43m(\u001b[49m\u001b[43m)\u001b[49m\n",
      "\u001b[36mFile \u001b[39m\u001b[32m~/Downloads/crewai-advanced/.venv/lib/python3.13/site-packages/crewai/memory/entity/entity_memory.py:153\u001b[39m, in \u001b[36mEntityMemory.reset\u001b[39m\u001b[34m(self)\u001b[39m\n\u001b[32m    152\u001b[39m \u001b[38;5;28;01mexcept\u001b[39;00m \u001b[38;5;167;01mException\u001b[39;00m \u001b[38;5;28;01mas\u001b[39;00m e:\n\u001b[32m--> \u001b[39m\u001b[32m153\u001b[39m     \u001b[38;5;28;01mraise\u001b[39;00m \u001b[38;5;167;01mException\u001b[39;00m(\u001b[33mf\u001b[39m\u001b[33m\"\u001b[39m\u001b[33mAn error occurred while resetting the entity memory: \u001b[39m\u001b[38;5;132;01m{\u001b[39;00me\u001b[38;5;132;01m}\u001b[39;00m\u001b[33m\"\u001b[39m)\n",
      "\u001b[31mException\u001b[39m: An error occurred while resetting the entity memory: An error occurred while resetting the short_term memory: [Errno 2] No such file or directory: '/Users/sourangshupal/Library/Application Support/crewai-advanced/short_term'",
      "\nThe above exception was the direct cause of the following exception:\n",
      "\u001b[31mRuntimeError\u001b[39m                              Traceback (most recent call last)",
      "\u001b[36mFile \u001b[39m\u001b[32m~/Downloads/crewai-advanced/.venv/lib/python3.13/site-packages/crewai/crew.py:1377\u001b[39m, in \u001b[36mCrew.reset_memories\u001b[39m\u001b[34m(self, command_type)\u001b[39m\n\u001b[32m   1376\u001b[39m     \u001b[38;5;28;01melse\u001b[39;00m:\n\u001b[32m-> \u001b[39m\u001b[32m1377\u001b[39m         \u001b[38;5;28;43mself\u001b[39;49m\u001b[43m.\u001b[49m\u001b[43m_reset_specific_memory\u001b[49m\u001b[43m(\u001b[49m\u001b[43mcommand_type\u001b[49m\u001b[43m)\u001b[49m\n\u001b[32m   1379\u001b[39m \u001b[38;5;28;01mexcept\u001b[39;00m \u001b[38;5;167;01mException\u001b[39;00m \u001b[38;5;28;01mas\u001b[39;00m e:\n",
      "\u001b[36mFile \u001b[39m\u001b[32m~/Downloads/crewai-advanced/.venv/lib/python3.13/site-packages/crewai/crew.py:1428\u001b[39m, in \u001b[36mCrew._reset_specific_memory\u001b[39m\u001b[34m(self, memory_type)\u001b[39m\n\u001b[32m   1427\u001b[39m \u001b[38;5;28;01mexcept\u001b[39;00m \u001b[38;5;167;01mException\u001b[39;00m \u001b[38;5;28;01mas\u001b[39;00m e:\n\u001b[32m-> \u001b[39m\u001b[32m1428\u001b[39m     \u001b[38;5;28;01mraise\u001b[39;00m \u001b[38;5;167;01mRuntimeError\u001b[39;00m(\n\u001b[32m   1429\u001b[39m         \u001b[33mf\u001b[39m\u001b[33m\"\u001b[39m\u001b[33m[Crew (\u001b[39m\u001b[38;5;132;01m{\u001b[39;00m\u001b[38;5;28mself\u001b[39m.name\u001b[38;5;250m \u001b[39m\u001b[38;5;28;01mif\u001b[39;00m\u001b[38;5;250m \u001b[39m\u001b[38;5;28mself\u001b[39m.name\u001b[38;5;250m \u001b[39m\u001b[38;5;28;01melse\u001b[39;00m\u001b[38;5;250m \u001b[39m\u001b[38;5;28mself\u001b[39m.id\u001b[38;5;132;01m}\u001b[39;00m\u001b[33m)] Failed to reset \u001b[39m\u001b[38;5;132;01m{\u001b[39;00mname\u001b[38;5;132;01m}\u001b[39;00m\u001b[33m memory: \u001b[39m\u001b[38;5;132;01m{\u001b[39;00m\u001b[38;5;28mstr\u001b[39m(e)\u001b[38;5;132;01m}\u001b[39;00m\u001b[33m\"\u001b[39m\n\u001b[32m   1430\u001b[39m     ) \u001b[38;5;28;01mfrom\u001b[39;00m\u001b[38;5;250m \u001b[39m\u001b[34;01me\u001b[39;00m\n",
      "\u001b[31mRuntimeError\u001b[39m: [Crew (crew)] Failed to reset Entity memory: An error occurred while resetting the entity memory: An error occurred while resetting the short_term memory: [Errno 2] No such file or directory: '/Users/sourangshupal/Library/Application Support/crewai-advanced/short_term'",
      "\nThe above exception was the direct cause of the following exception:\n",
      "\u001b[31mRuntimeError\u001b[39m                              Traceback (most recent call last)",
      "\u001b[36mCell\u001b[39m\u001b[36m \u001b[39m\u001b[32mIn[9]\u001b[39m\u001b[32m, line 1\u001b[39m\n\u001b[32m----> \u001b[39m\u001b[32m1\u001b[39m \u001b[43mcrew\u001b[49m\u001b[43m.\u001b[49m\u001b[43mreset_memories\u001b[49m\u001b[43m(\u001b[49m\u001b[43mcommand_type\u001b[49m\u001b[43m=\u001b[49m\u001b[33;43m'\u001b[39;49m\u001b[33;43mentity\u001b[39;49m\u001b[33;43m'\u001b[39;49m\u001b[43m)\u001b[49m\n",
      "\u001b[36mFile \u001b[39m\u001b[32m~/Downloads/crewai-advanced/.venv/lib/python3.13/site-packages/crewai/crew.py:1382\u001b[39m, in \u001b[36mCrew.reset_memories\u001b[39m\u001b[34m(self, command_type)\u001b[39m\n\u001b[32m   1380\u001b[39m error_msg = \u001b[33mf\u001b[39m\u001b[33m\"\u001b[39m\u001b[33mFailed to reset \u001b[39m\u001b[38;5;132;01m{\u001b[39;00mcommand_type\u001b[38;5;132;01m}\u001b[39;00m\u001b[33m memory: \u001b[39m\u001b[38;5;132;01m{\u001b[39;00m\u001b[38;5;28mstr\u001b[39m(e)\u001b[38;5;132;01m}\u001b[39;00m\u001b[33m\"\u001b[39m\n\u001b[32m   1381\u001b[39m \u001b[38;5;28mself\u001b[39m._logger.log(\u001b[33m\"\u001b[39m\u001b[33merror\u001b[39m\u001b[33m\"\u001b[39m, error_msg)\n\u001b[32m-> \u001b[39m\u001b[32m1382\u001b[39m \u001b[38;5;28;01mraise\u001b[39;00m \u001b[38;5;167;01mRuntimeError\u001b[39;00m(error_msg) \u001b[38;5;28;01mfrom\u001b[39;00m\u001b[38;5;250m \u001b[39m\u001b[34;01me\u001b[39;00m\n",
      "\u001b[31mRuntimeError\u001b[39m: Failed to reset entity memory: [Crew (crew)] Failed to reset Entity memory: An error occurred while resetting the entity memory: An error occurred while resetting the short_term memory: [Errno 2] No such file or directory: '/Users/sourangshupal/Library/Application Support/crewai-advanced/short_term'"
     ]
    }
   ],
   "source": [
    "crew.reset_memories(command_type='entity')"
   ]
  },
  {
   "cell_type": "code",
   "execution_count": 10,
   "id": "cb6925fa",
   "metadata": {},
   "outputs": [
    {
     "name": "stdout",
     "output_type": "stream",
     "text": [
      "CrewAI storage location: /Users/sourangshupal/Library/Application Support/crewai-advanced\n",
      "\n",
      "Stored files and directories:\n",
      "📁 821397aa-0099-4d0e-b4f4-0669484a8fef/\n",
      "   └── data_level0.bin\n",
      "   └── length.bin\n",
      "   └── link_lists.bin\n",
      "   └── header.bin\n",
      "📁 205cf283-d7b2-4644-9198-2387230b5fbf/\n",
      "   └── data_level0.bin\n",
      "   └── length.bin\n",
      "   └── link_lists.bin\n",
      "   └── header.bin\n",
      "📁 4663ae7b-19b0-4e1e-95b6-5f8adfd1b3d2/\n",
      "   └── data_level0.bin\n",
      "   └── length.bin\n",
      "   └── link_lists.bin\n",
      "   └── header.bin\n",
      "📁 98459114-8f08-48f3-b770-c871d24309c7/\n",
      "   └── data_level0.bin\n",
      "   └── length.bin\n",
      "   └── link_lists.bin\n",
      "   └── header.bin\n",
      "📁 e11b1f5c-209b-4fbe-91e0-5dea41fb4198/\n",
      "   └── data_level0.bin\n",
      "   └── length.bin\n",
      "   └── link_lists.bin\n",
      "   └── header.bin\n",
      "📁 195f3350-181e-4cb9-8e1b-5e1a39d6776c/\n",
      "   └── data_level0.bin\n",
      "   └── length.bin\n",
      "   └── link_lists.bin\n",
      "   └── header.bin\n",
      "📄 long_term_memory_storage.db\n",
      "📁 5399bf04-08ea-4c22-97e8-0c38109ccd59/\n",
      "   └── data_level0.bin\n",
      "   └── length.bin\n",
      "   └── link_lists.bin\n",
      "   └── header.bin\n",
      "📁 8e96f971-9a08-477a-9e34-a271fa3094b7/\n",
      "   └── data_level0.bin\n",
      "   └── length.bin\n",
      "   └── link_lists.bin\n",
      "   └── header.bin\n",
      "📄 chroma.sqlite3\n",
      "📁 18c674bf-0b90-402e-b6bb-e25589a1edd7/\n",
      "   └── data_level0.bin\n",
      "   └── length.bin\n",
      "   └── link_lists.bin\n",
      "   └── header.bin\n",
      "📁 knowledge/\n",
      "   └── ca5a8398-9f7f-4fd6-9f6d-c5e215312780\n",
      "   └── 368c0084-deef-4c44-973a-d8abeb93d918\n",
      "   └── ff0d5c2c-9f10-4b88-9f6d-2cde20e18884\n",
      "   └── chroma.sqlite3\n",
      "   └── 135198ec-5597-4ba5-8782-05120f46481f\n",
      "   └── 4f0b5f61-f63d-41ab-aeda-794785e01cff\n",
      "   └── 2bfe2f3b-d256-4390-a0be-89ff8d089888\n",
      "📄 chromadb-8d5cb4bf4656843edbbd638e9bc5846b.lock\n",
      "📁 38f6bc0b-6ad1-4124-9453-a66187cb4372/\n",
      "   └── data_level0.bin\n",
      "   └── length.bin\n",
      "   └── link_lists.bin\n",
      "   └── header.bin\n",
      "📁 157526aa-ec2a-459c-afb2-3789a59457a0/\n",
      "   └── data_level0.bin\n",
      "   └── length.bin\n",
      "   └── link_lists.bin\n",
      "   └── header.bin\n",
      "📁 6c43aa7d-8d42-4275-895d-c61bdfafa49d/\n",
      "   └── data_level0.bin\n",
      "   └── length.bin\n",
      "   └── link_lists.bin\n",
      "   └── header.bin\n",
      "📄 latest_kickoff_task_outputs.db\n",
      "📁 aa24e2fa-f304-4400-9d9f-7f7e5b95ab4c/\n",
      "   └── data_level0.bin\n",
      "   └── length.bin\n",
      "   └── link_lists.bin\n",
      "   └── header.bin\n",
      "📁 ec868cc4-10f4-4ebc-9324-c24aebb2168f/\n",
      "   └── data_level0.bin\n",
      "   └── length.bin\n",
      "   └── link_lists.bin\n",
      "   └── header.bin\n",
      "📁 662875b0-810a-48f8-9c75-9ef54033d5b4/\n",
      "   └── data_level0.bin\n",
      "   └── length.bin\n",
      "   └── link_lists.bin\n",
      "   └── header.bin\n",
      "📁 entities/\n",
      "   └── First_Personal_Assistant\n",
      "   └── A_Personal_Assistant\n",
      "📄 .crewai_user.json\n"
     ]
    }
   ],
   "source": [
    "from crewai.utilities.paths import db_storage_path\n",
    "import os\n",
    "\n",
    "# Get the base storage path\n",
    "storage_path = db_storage_path()\n",
    "print(f\"CrewAI storage location: {storage_path}\")\n",
    "\n",
    "# List all CrewAI storage directories\n",
    "if os.path.exists(storage_path):\n",
    "    print(\"\\nStored files and directories:\")\n",
    "    for item in os.listdir(storage_path):\n",
    "        item_path = os.path.join(storage_path, item)\n",
    "        if os.path.isdir(item_path):\n",
    "            print(f\"📁 {item}/\")\n",
    "            # Show ChromaDB collections\n",
    "            if os.path.exists(item_path):\n",
    "                for subitem in os.listdir(item_path):\n",
    "                    print(f\"   └── {subitem}\")\n",
    "        else:\n",
    "            print(f\"📄 {item}\")\n",
    "else:\n",
    "    print(\"No CrewAI storage directory found yet.\")"
   ]
  },
  {
   "cell_type": "code",
   "execution_count": null,
   "id": "3e3e0364",
   "metadata": {},
   "outputs": [],
   "source": [
    "import os\n",
    "from pathlib import Path\n",
    "\n",
    "# Store in project directory\n",
    "project_root = Path(__file__).parent\n",
    "storage_dir = project_root / \"crewai_storage\"\n",
    "\n",
    "os.environ[\"CREWAI_STORAGE_DIR\"] = str(storage_dir)\n",
    "\n",
    "# Now all storage will be in your project directory"
   ]
  }
 ],
 "metadata": {
  "kernelspec": {
   "display_name": ".venv (3.13.2)",
   "language": "python",
   "name": "python3"
  },
  "language_info": {
   "codemirror_mode": {
    "name": "ipython",
    "version": 3
   },
   "file_extension": ".py",
   "mimetype": "text/x-python",
   "name": "python",
   "nbconvert_exporter": "python",
   "pygments_lexer": "ipython3",
   "version": "3.13.2"
  }
 },
 "nbformat": 4,
 "nbformat_minor": 5
}
